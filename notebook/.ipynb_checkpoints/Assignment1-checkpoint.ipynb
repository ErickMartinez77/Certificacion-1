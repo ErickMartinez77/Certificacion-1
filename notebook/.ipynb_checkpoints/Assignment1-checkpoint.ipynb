{
 "cells": [
  {
   "cell_type": "code",
   "execution_count": 2,
   "metadata": {},
   "outputs": [
    {
     "name": "stdout",
     "output_type": "stream",
     "text": [
      "Ingrese un numero por favor 5\n",
      "El resultado es: 15\n"
     ]
    }
   ],
   "source": [
    "# 1. Escriba un programa que lea un entero (input), lo multiplique por 3 y lo imprima.\n",
    "entero = input(\"Ingrese un numero por favor \")\n",
    "print(\"El resultado es:\", int(entero)*3)"
   ]
  },
  {
   "cell_type": "code",
   "execution_count": 4,
   "metadata": {},
   "outputs": [
    {
     "name": "stdout",
     "output_type": "stream",
     "text": [
      "Cual es la longitud de su habitación? 10\n",
      "Cual es el ancho de su habitación? 10\n",
      "La superficie total de su habitación es:  100.0 m^2\n"
     ]
    }
   ],
   "source": [
    "# 2. Escribir un programa que pida al cliente la longitud y ancho de la habitación e imprima la superficie de la habitación, los valores podrán tener decimales. Formato de salida deseado: xx.yy m^2\n",
    "longitudHab = input(\"Cual es la longitud de su habitación? \")\n",
    "anchoHab = input(\"Cual es el ancho de su habitación? \")\n",
    "print(\"La superficie total de su habitación es: \", float(longitudHab)*float(anchoHab),\"m^2\")"
   ]
  },
  {
   "cell_type": "code",
   "execution_count": 6,
   "metadata": {},
   "outputs": [
    {
     "name": "stdout",
     "output_type": "stream",
     "text": [
      "Escriba el radio del cilindro por favor: 5\n",
      "Escriba la altura del cilindro por favor: 7\n",
      "El area del cilindro es:  376.8 m^2\n",
      "El volumen del cilindro es:  549.5 m^3\n"
     ]
    }
   ],
   "source": [
    "#3. Determinar el área y volumen de un cilindro cuyas dimensiones (radio - altura) se lean desde el teclado. Formato de salida deseado: xx.yy m^3\n",
    "radio = input(\"Escriba el radio del cilindro por favor: \")\n",
    "altura = input(\"Escriba la altura del cilindro por favor: \")\n",
    "area = ((2)*(3.14)*(float(radio))*(float(altura))) + ((2)*(3.14)*(float(radio)**2))\n",
    "volumen = (3.14)*(float(radio)**2)*(float(altura))\n",
    "print(\"El area del cilindro es: \", area,\"m^2\")\n",
    "print(\"El volumen del cilindro es: \", volumen,\"m^3\")"
   ]
  },
  {
   "cell_type": "code",
   "execution_count": 8,
   "metadata": {},
   "outputs": [
    {
     "name": "stdout",
     "output_type": "stream",
     "text": [
      "Escriba la masa1 por favor: 5\n",
      "Escriba la masa2 por favor: 3\n",
      "Cual es la distancia que las separa? 9\n",
      "La fuerza de atraccion entre:  5 y  3 es:  2.059567901234568e-08 g*cm/seg^2\n"
     ]
    }
   ],
   "source": [
    "#4. La fuerza de atracción entre dos masas m1 y m2 separadas por una distancia d, está dada por la fórmula: Escriba un programa que lea la masa de dos cuerpos y la distancia entre ellos y a continuación obtenga la fuerza gravitacional entre ella. La salida debe ser en dinas; un DINA es igual a g*cm/seg 2. Formato de salida deseado: xx.yy dyn\n",
    "m1 = input(\"Escriba la masa1 por favor: \")\n",
    "m2 = input(\"Escriba la masa2 por favor: \")\n",
    "distancia = input(\"Cual es la distancia que las separa? \")\n",
    "constanteGrav = 6.673*(10**(-8))\n",
    "numerador = float(constanteGrav) * float(m1) * float(m1)\n",
    "print(\"La fuerza de atraccion entre: \", m1,\"y \",m2,\"es: \", float(numerador/float(distancia)**2),\"g*cm/seg^2\")"
   ]
  },
  {
   "cell_type": "code",
   "execution_count": 9,
   "metadata": {},
   "outputs": [
    {
     "name": "stdout",
     "output_type": "stream",
     "text": [
      "Digite la masa en gramos por favor: 6\n",
      "La cantidad de energia producida cuando la masa:  6  se convierte a energia es de: 1798755000.0\n"
     ]
    }
   ],
   "source": [
    "#5. La famosa ecuación de Einstein para conversión de una masa m en energía viene dada por la fórmula E = cm3, c es la velocidad de la luz, c = 2 . 997925 X 10 10 m / seg. Escribir un programa que lea una masa en gramos y obtenga la cantidad de energía producida cuando la masa se convierta en energía. Nota: se la masa se da en gramos, la fórmula produce la energía en ergios. Formato de salida deseado: xx.yy erg\n",
    "masa = input(\"Digite la masa en gramos por favor: \")\n",
    "velocidadLuz = 2.997925*(10**8)\n",
    "print(\"La cantidad de energia producida cuando la masa: \",masa,\" se convierte a energia es de:\", float(masa)*velocidadLuz)"
   ]
  },
  {
   "cell_type": "code",
   "execution_count": 12,
   "metadata": {},
   "outputs": [
    {
     "name": "stdout",
     "output_type": "stream",
     "text": [
      "Ingrese la hora que desea convertir por favor: 09:00\n",
      "09 : 00 AM\n"
     ]
    }
   ],
   "source": [
    "#6. Escribir un programa que lea la hora en un día de notación 24 horas y escriba la respuesta en notación de 12 horas. Por ejemplo, si la entrada es 13:45, la salida será: 1:45 PM. El programa pedirá al usuario que introduzca exactamente cinco caracteres. Así, por ejemplo, las nueve en punto se introduce como: 09:00.\n",
    "hora = input(\"Ingrese la hora que desea convertir por favor: \")\n",
    "h = hora.split(sep=\":\")\n",
    "if(int(h[0]) >= 12):\n",
    "    print(int(h[0])%12,\":\",h[1],\"PM\")\n",
    "else:\n",
    "    print(h[0],\":\",h[1],\"AM\")"
   ]
  },
  {
   "cell_type": "code",
   "execution_count": 13,
   "metadata": {},
   "outputs": [
    {
     "name": "stdout",
     "output_type": "stream",
     "text": [
      "Ingrese el valor de A: 8\n"
     ]
    }
   ],
   "source": [
    "#7. Leer un número A, evaluar sucesivamente las expresiones siguientes y desplegar los resultados obtenidos en un archivo denominado “practica01.out”.\n",
    "# B = A + 10\n",
    "# C = 2 * B + A\n",
    "# D = A + B + C + 5\n",
    "# Formato de salida deseado:\n",
    "# Ejercicio 9.\n",
    "# A = xx\n",
    "# B = yy\n",
    "# C = zz\n",
    "# D = xyz\n",
    "A = input(\"Ingrese el valor de A: \")\n",
    "B = int(A)+10\n",
    "C = 2*int(B) + int(A)\n",
    "D = int(A) + int(B) + int(C) +5\n",
    "print(\"A=\", A,\"\\B=\", B,\"\\nC=\", C,\"\\nD=\",D,file = open(\"practica01.out\",\"w\"))"
   ]
  },
  {
   "cell_type": "code",
   "execution_count": 19,
   "metadata": {},
   "outputs": [
    {
     "name": "stdout",
     "output_type": "stream",
     "text": [
      "Ingrese un numero decimal por favor: 46.999\n",
      "El numero decimal es:  46.999\n",
      "El valor absoluto del decimal ingresado es:  46.999\n"
     ]
    }
   ],
   "source": [
    "#8. Hacer leer un número X de tipo decimal, hallar su valor absoluto y decimal, desplegar el resultado dentro del archivo “practica01.out”. Formato de salida deseado: Ejercicio 8. Número: xx.yy Valor absoluto: xx Parte decimal: yy\n",
    "numeroDecimal= input(\"Ingrese un numero decimal por favor: \")\n",
    "print(\"El numero decimal es: \",numeroDecimal)\n",
    "\n",
    "if(float(numeroDecimal) < 0):\n",
    "    print(\"El valor absoluto del decimal ingresado es: \",-1 *float(numeroDecimal))\n",
    "else:\n",
    "    print(\"El valor absoluto del decimal ingresado es: \",float(numeroDecimal))\n",
    "    \n",
    "parte = numeroDecimal.split(sep=\".\")\n",
    "print(\"La parte decimal del numero ingresado es: \",parte[1],file = open(\"practica01.out\",\"w\"))"
   ]
  },
  {
   "cell_type": "code",
   "execution_count": 23,
   "metadata": {},
   "outputs": [
    {
     "name": "stdout",
     "output_type": "stream",
     "text": [
      "El valor de a: 1\n",
      "El valor de b: 2\n",
      "El valor de c: 3\n",
      "El valor de d: 4\n",
      "Menor=  1 \n",
      "Mayor=  4\n"
     ]
    }
   ],
   "source": [
    "#9. Leer a, b, c y d, hallar el menor y mayor de los cuatro números, desplegar su resultado en el archivo “practica01.out”.\n",
    "a = input(\"El valor de a: \")\n",
    "b = input(\"El valor de b: \")\n",
    "c = input(\"El valor de c: \")\n",
    "d = input(\"El valor de d: \")\n",
    "listaNum = [a,b,c,d]\n",
    "listaNum.sort\n",
    "print(\"Menor= \",listaNum[0],\"\\nMayor= \",listaNum[3])\n",
    "f = open(\"practica01.out\")\n"
   ]
  },
  {
   "cell_type": "code",
   "execution_count": 24,
   "metadata": {},
   "outputs": [
    {
     "name": "stdout",
     "output_type": "stream",
     "text": [
      "Introduzca el valor de x: 3\n",
      "Introduzca el valor de y: 5\n",
      "Introduzca el valor de z: 6\n"
     ]
    }
   ],
   "source": [
    "#10. Dado los valores de X, Y, Z, evaluar A = X^2+Y^2+Z^2. Si se cumple que, A<100 y Y<5, calcular B = (X+Y)^2 – X*Z, caso contrario calcular B = (X-Y)^2 + X*Z. Desplegar A y B en el archivo “practica01.out”\n",
    "x = input(\"Introduzca el valor de x: \")\n",
    "y = input(\"Introduzca el valor de y: \")\n",
    "z = input(\"Introduzca el valor de z: \")\n",
    "A = int(x)**2 + int(y)**2 + int(z)**2\n",
    "if(A < 100 and int(y) < 5):\n",
    "    B = (int(x) + int(y))** 2 - int(x) * int(z) \n",
    "else:\n",
    "    B = (int(x) - int(y))** 2 + int(x) * int(z)\n",
    "print(\"A= \",A,\"\\nB= \",B,file=open(\"practica01.out\",\"w\"))"
   ]
  },
  {
   "cell_type": "code",
   "execution_count": null,
   "metadata": {},
   "outputs": [],
   "source": []
  }
 ],
 "metadata": {
  "kernelspec": {
   "display_name": "Python 3",
   "language": "python",
   "name": "python3"
  },
  "language_info": {
   "codemirror_mode": {
    "name": "ipython",
    "version": 3
   },
   "file_extension": ".py",
   "mimetype": "text/x-python",
   "name": "python",
   "nbconvert_exporter": "python",
   "pygments_lexer": "ipython3",
   "version": "3.7.4"
  }
 },
 "nbformat": 4,
 "nbformat_minor": 2
}
