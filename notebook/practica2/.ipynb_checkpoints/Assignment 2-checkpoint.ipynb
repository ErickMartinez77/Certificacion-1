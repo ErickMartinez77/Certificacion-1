{
 "cells": [
  {
   "cell_type": "code",
   "execution_count": 4,
   "metadata": {},
   "outputs": [
    {
     "name": "stdout",
     "output_type": "stream",
     "text": [
      "Ingresa un año por favor: 1800\n",
      "El año 1800 no es bisiesto \n"
     ]
    }
   ],
   "source": [
    "#21. Escribir un programa que determine si el año es bisiesto. Un año es bisiesto si es\n",
    "#múltiplo de 4 (1988), excepto los múltiplos de 100 que no son bisiestos salvo que a su\n",
    "#vez también sean múltiplos de 400 (1800 no es bisiesto, 2000 sí).\n",
    "anio = int(input(\"Ingresa un año por favor: \"))\n",
    "if(anio % 4 == 0 and anio % 100 != 0 or anio % 400 == 0):\n",
    "     print(\"El año \"+str(anio)+\" es bisiesto \")\n",
    "else:\n",
    "     print(\"El año \"+str(anio)+\" no es bisiesto \")"
   ]
  },
  {
   "cell_type": "code",
   "execution_count": 6,
   "metadata": {},
   "outputs": [
    {
     "name": "stdout",
     "output_type": "stream",
     "text": [
      "Ingrese el valor de A: 1\n",
      "Ingrese el valor de B: -2\n",
      "Ingrese el valor de C: -15\n",
      "Las soluciones de la ecuación son:\n",
      "x1: 5.0\n",
      "x2: -3.0\n"
     ]
    }
   ],
   "source": [
    "#22. Dado los valores de A, B, C que son los coeficientes de la ecuación de segundo grado,\n",
    "#hallar sus raíces reales, desplegar los resultados.\n",
    "a = int(input(\"Ingrese el valor de A: \"))\n",
    "b = int(input(\"Ingrese el valor de B: \"))\n",
    "c = int(input(\"Ingrese el valor de C: \"))\n",
    "x1= 0\n",
    "x2= 0\n",
    "if ((b**2)-4*a*c) < 0:\n",
    "    print(\"La solución de la ecuación es con números complejos\")\n",
    "else:\n",
    "    x1 = (-b+sqrt(b**2-(4*a*c)))/(2*a)\n",
    "    x2 = (-b-sqrt(b**2-(4*A*c)))/(2*a)\n",
    "    print(\"Las soluciones de la ecuación son:\")\n",
    "    print(\"x1:\",x1)\n",
    "    print(\"x2:\",x2)"
   ]
  },
  {
   "cell_type": "markdown",
   "metadata": {},
   "source": []
  },
  {
   "cell_type": "code",
   "execution_count": 12,
   "metadata": {},
   "outputs": [
    {
     "name": "stdout",
     "output_type": "stream",
     "text": [
      "Ingresa un numero: 345\n",
      "El numero tiene 3 digitos\n"
     ]
    }
   ],
   "source": [
    "#24. Dado un número X, determinar el número de dígitos del que esta compuesto y\n",
    "#desplegar el resultado.\n",
    "num = int(input(\"Ingresa un numero: \"))\n",
    "contador = len(str(num))\n",
    "\n",
    "print(\"El numero tiene\", contador, \"digitos\" )"
   ]
  },
  {
   "cell_type": "code",
   "execution_count": 4,
   "metadata": {},
   "outputs": [
    {
     "name": "stdout",
     "output_type": "stream",
     "text": [
      "Ingrese un numero: 90\n",
      "Ingrese otro numero: 30\n",
      "Ingrese un ultimo numero: 45\n",
      "El numero mayor de los numeros introducidos es: 90\n",
      "El numero mayor de los numeros introducidos es: 30\n",
      "La media de los numeros introducidos es:  55.0\n"
     ]
    }
   ],
   "source": [
    "#25. Escribir un programa que calcule y visualice el más grande, el más pequeño y la media\n",
    "#de N números. El valor de N se solicitará al principio del programa y los números\n",
    "#serán introducidos por el usuario.\n",
    "a = int(input(\"Ingrese un numero: \"))\n",
    "b = int(input(\"Ingrese otro numero: \"))\n",
    "c = int(input(\"Ingrese un ultimo numero: \"))\n",
    "numeros = [a,b,c]\n",
    "media = sum(numeros)/3\n",
    "print(\"El numero mayor de los numeros introducidos es:\",max(numeros))\n",
    "print(\"El numero mayor de los numeros introducidos es:\",min(numeros))\n",
    "print(\"La media de los numeros introducidos es: \",media)"
   ]
  },
  {
   "cell_type": "code",
   "execution_count": 7,
   "metadata": {},
   "outputs": [
    {
     "name": "stdout",
     "output_type": "stream",
     "text": [
      "Ingrese el valor de a: 2\n",
      "Ingrese el valor de b: 3\n",
      "2\n",
      "4\n",
      "8\n"
     ]
    }
   ],
   "source": [
    "#26. Dado dos números A y B enteros mayores a cero, hallar A^B por sumas. Desplegar los\n",
    "#números y el resultado.\n",
    "a = int(input(\"Ingrese el valor de a: \"))\n",
    "b = int(input(\"Ingrese el valor de b: \"))\n",
    "contador=1\n",
    "while a!=0 and b!=0:\n",
    "    contador *= a\n",
    "    b -=1\n",
    "    print(contador)"
   ]
  },
  {
   "cell_type": "code",
   "execution_count": 2,
   "metadata": {},
   "outputs": [
    {
     "name": "stdout",
     "output_type": "stream",
     "text": [
      "Ingrese el numero de terminos que quiere para calcular pi: 1\n",
      "4.0\n"
     ]
    }
   ],
   "source": [
    "#27. La constante pi (3.1441592...) es muy utilizada en matemáticas. Un método sencillo\n",
    "#de calcular su valor es:\n",
    "#         2   2   4   4   6   6   8   8\n",
    "#pi = 2* ( )*( )*( )*( )*( )*( )*( )*( )...\n",
    "#         1   3   3   5   5   7   7   9\n",
    "#Escribir un programa que efectúe este cálculo con un número de términos\n",
    "#especificando por el usuario.\n",
    "terminos=int(input(\"Ingrese el numero de terminos que quiere para calcular pi: \"))\n",
    "pi=2.0\n",
    "for n in range(1,terminos+1):\n",
    "    if(n%2==0):  \n",
    "        pi  =  pi * n/(n+1)\n",
    "    elif(n%2==1): \n",
    "        pi  =  pi * (n+1)/n\n",
    "print(round(pi,10))"
   ]
  },
  {
   "cell_type": "code",
   "execution_count": 10,
   "metadata": {},
   "outputs": [
    {
     "name": "stdout",
     "output_type": "stream",
     "text": [
      "Ingrese x para calcular e^x: 4\n",
      "e^4 = 54.6 "
     ]
    }
   ],
   "source": [
    "#28. El valor de e^x se puede aproximar por la suma\n",
    "#     x^2 x^3 x^4      x^n\n",
    "# 1+x+___+___+___+...++___\n",
    "#     2!  3!  4!       n!\n",
    "#Escribir un programa que tome un valor de x como entrada y visualice la suma para\n",
    "#cada uno de los valores de 1 a 100.\n",
    "import math\n",
    "x=int(input(\"Ingrese x para calcular e^x: \"))\n",
    "print(f\"e^{x} = \",end=\"\")\n",
    "suma=1+x\n",
    "for i in range(2,100):\n",
    "    suma=suma+(x**i/math.factorial(i))\n",
    "print(round(suma,2),end=\" \")"
   ]
  },
  {
   "cell_type": "code",
   "execution_count": 1,
   "metadata": {},
   "outputs": [
    {
     "name": "stdout",
     "output_type": "stream",
     "text": [
      "Ingrese la cantidad de elementos de un vector 3\n",
      "Ingrese el elemento 1: 1\n",
      "Ingrese el elemento 2: 2\n",
      "Ingrese el elemento 3: 3\n",
      "La suma de los elementos es 6\n",
      "El promedio de los elementos es 2.0\n"
     ]
    }
   ],
   "source": [
    "#29. Calcular la suma de todos los elementos de un vector, así como la media aritmética.\n",
    "elementos=int(input(\"Ingrese la cantidad de elementos de un vector \"))\n",
    "lista=[]\n",
    "for x in range(0,elementos):\n",
    "    elemento=int(input(f\"Ingrese el elemento {x+1}: \"))\n",
    "    lista.append(elemento)\n",
    "print(f\"La suma de los elementos es {sum(lista)}\")\n",
    "print(f\"El promedio de los elementos es {sum(lista)/len(lista)}\")"
   ]
  },
  {
   "cell_type": "code",
   "execution_count": 9,
   "metadata": {},
   "outputs": [
    {
     "name": "stdout",
     "output_type": "stream",
     "text": [
      "Ingrese el numero de filas de la primera matriz: 2\n",
      "Ingrese el numero de columnas de la primera matriz: 2\n",
      "Ingrese el numero de columnas de la segunda matriz: 2\n",
      "a: [0, 0]\n",
      "a: [0, 0]\n",
      "b: [0, 0]\n",
      "b: [0, 0]\n",
      "Introduce el componente (0,0) para la primera matriz: 4\n",
      "Introduce el componente (0,1) para la primera matriz: 5\n",
      "Introduce el componente (1,0) para la primera matriz: -3\n",
      "Introduce el componente (1,1) para la primera matriz: 6\n",
      "a: [4, 5]\n",
      "a: [-3, 6]\n",
      "Introduce el componente (0,0) para la segunda matriz: 5\n",
      "Introduce el componente (0,1) para la segunda matriz: -6\n",
      "Introduce el componente (1,0) para la segunda matriz: 9\n",
      "Introduce el componente (1,1) para la segunda matriz: 0\n",
      "b: [5, -6]\n",
      "b: [9, 0]\n",
      "Matriz resultante: [65, -24]\n",
      "Matriz resultante: [39, 18]\n"
     ]
    }
   ],
   "source": [
    "#30. Multiplicar dos matrices.\n",
    "filasMat1=int(input(\"Ingrese el numero de filas de la primera matriz: \"))\n",
    "columMat1=int(input(\"Ingrese el numero de columnas de la primera matriz: \"))\n",
    "columMat2=int(input(\"Ingrese el numero de columnas de la segunda matriz: \"))\n",
    "\n",
    "a=[]\n",
    "for i in range(filasMat1):\n",
    "    a.append([0]*columMat1)\n",
    "for i in range(filasMat1):\n",
    "    print(\"a:\",a[i])\n",
    "b=[]\n",
    "for i in range(columMat1):\n",
    "    b.append([0]*columMat2)\n",
    "for i in range(columMat1):\n",
    "    print(\"b:\",b[i])\n",
    "    \n",
    "\n",
    "for i in range(filasMat1):\n",
    "    for j in range(columMat1):\n",
    "        a[i][j]=int(input(\"Introduce el componente (%d,%d) para la primera matriz: \" %(i,j)))\n",
    "for i in range(filasMat1):\n",
    "    print(\"a:\",a[i])\n",
    "    \n",
    "for i in range(columMat1):\n",
    "    for j in range(columMat2):\n",
    "        b[i][j]=int(input(\"Introduce el componente (%d,%d) para la segunda matriz: \" %(i,j)))\n",
    "for i in range(columMat1):\n",
    "    print(\"b:\",b[i])\n",
    "    \n",
    "c=[]\n",
    "for i in range(filasMat1):\n",
    "    c.append([0]*columMat2)\n",
    "\n",
    "#Multiplicacion\n",
    "for i in range(filasMat1):\n",
    "    for j in range(columMat2):\n",
    "        for k in range(columMat1):\n",
    "            c[i][j] += a[i][k]*b[k][j] \n",
    "#Resultado\n",
    "\n",
    "for i in range(filasMat1):\n",
    "    res=[]\n",
    "    for j in range(columMat2):\n",
    "        res.append(c[i][j])\n",
    "\n",
    "    print(\"Matriz resultante:\",res)"
   ]
  },
  {
   "cell_type": "markdown",
   "metadata": {},
   "source": []
  }
 ],
 "metadata": {
  "kernelspec": {
   "display_name": "Python 3",
   "language": "python",
   "name": "python3"
  },
  "language_info": {
   "codemirror_mode": {
    "name": "ipython",
    "version": 3
   },
   "file_extension": ".py",
   "mimetype": "text/x-python",
   "name": "python",
   "nbconvert_exporter": "python",
   "pygments_lexer": "ipython3",
   "version": "3.7.4"
  }
 },
 "nbformat": 4,
 "nbformat_minor": 2
}
